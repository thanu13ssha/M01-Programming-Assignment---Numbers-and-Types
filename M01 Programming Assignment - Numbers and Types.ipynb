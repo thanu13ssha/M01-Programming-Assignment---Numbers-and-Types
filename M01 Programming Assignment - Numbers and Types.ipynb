{
 "cells": [
  {
   "cell_type": "code",
   "execution_count": null,
   "id": "55c06137-57b2-4f5b-ad81-286e74216191",
   "metadata": {},
   "outputs": [],
   "source": [
    "seconds_in_an_hour = 60 * 60\n"
   ]
  },
  {
   "cell_type": "markdown",
   "id": "f94d9f8a-9bd0-4c14-af92-2f2e1c435c8a",
   "metadata": {},
   "source": [
    "Used the interpreter as a calculator and multiply the number of seconds in a minute (60) by the number of minutes in an hour (also 60)."
   ]
  },
  {
   "cell_type": "code",
   "execution_count": null,
   "id": "ae25d2db-d421-4acf-8e73-1862d52fe970",
   "metadata": {},
   "outputs": [],
   "source": [
    "seconds_per_hour = seconds_in_an_hour"
   ]
  },
  {
   "cell_type": "markdown",
   "id": "ec7a6810-47c0-4e7d-9ee6-448b1580486b",
   "metadata": {},
   "source": [
    "Assigned the result from the previous task (seconds in an hour) to a variable called seconds_per_hour"
   ]
  },
  {
   "cell_type": "code",
   "execution_count": null,
   "id": "1ffe2454-4aff-4939-9a13-1358bed0757a",
   "metadata": {},
   "outputs": [],
   "source": [
    "seconds_in_a_day = seconds_per_hour * 24\n"
   ]
  },
  {
   "cell_type": "markdown",
   "id": "68c06a75-86c3-437d-a3bb-e3779b50fb45",
   "metadata": {},
   "source": [
    "Used your seconds_per_hour variable. to get how many seconds are there in a day "
   ]
  },
  {
   "cell_type": "code",
   "execution_count": null,
   "id": "fa7c4aed-13a0-4401-ba70-0a8149b80b3a",
   "metadata": {},
   "outputs": [],
   "source": [
    "seconds_per_day = seconds_in_a_day"
   ]
  },
  {
   "cell_type": "markdown",
   "id": "de8fee69-6761-4a1a-b037-2fd1a089bedd",
   "metadata": {},
   "source": [
    " Calculated seconds per day again, but this time save the result in a variable called seconds_per_day."
   ]
  },
  {
   "cell_type": "code",
   "execution_count": null,
   "id": "55588cd0-43e2-4776-ac98-e2a90f73099f",
   "metadata": {},
   "outputs": [],
   "source": [
    "floating_point_division = seconds_per_day / seconds_per_hour"
   ]
  },
  {
   "cell_type": "markdown",
   "id": "c9243185-fa5e-4090-9735-2dda66829865",
   "metadata": {},
   "source": [
    "Divided seconds_per_day by seconds_per_hour. Use floating-point (/) division."
   ]
  },
  {
   "cell_type": "code",
   "execution_count": null,
   "id": "bd05d769-116b-4068-8c21-cc1c380147f7",
   "metadata": {},
   "outputs": [],
   "source": [
    "integer_division = seconds_per_day // seconds_per_hour"
   ]
  },
  {
   "cell_type": "code",
   "execution_count": null,
   "id": "59fa9ad8-870a-419c-8b2c-71c7aef216bd",
   "metadata": {},
   "outputs": [],
   "source": [
    "print(\"Seconds in an hour:\", seconds_in_an_hour)\n",
    "print(\"Seconds per hour (assigned to variable):\", seconds_per_hour)\n",
    "print(\"Seconds in a day:\", seconds_in_a_day)\n",
    "print(\"Seconds per day (assigned to variable):\", seconds_per_day)\n",
    "print(\"Floating-point division of seconds_per_day by seconds_per_hour:\", floating_point_division)\n",
    "print(\"Integer division of seconds_per_day by seconds_per_hour:\", integer_division)"
   ]
  },
  {
   "cell_type": "code",
   "execution_count": null,
   "id": "3dba13ca-2b65-4d09-a65c-20af56686240",
   "metadata": {},
   "outputs": [],
   "source": []
  }
 ],
 "metadata": {
  "kernelspec": {
   "display_name": "Python 3 (ipykernel)",
   "language": "python",
   "name": "python3"
  },
  "language_info": {
   "codemirror_mode": {
    "name": "ipython",
    "version": 3
   },
   "file_extension": ".py",
   "mimetype": "text/x-python",
   "name": "python",
   "nbconvert_exporter": "python",
   "pygments_lexer": "ipython3",
   "version": "3.11.7"
  }
 },
 "nbformat": 4,
 "nbformat_minor": 5
}
